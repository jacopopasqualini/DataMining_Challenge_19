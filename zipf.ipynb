{
 "cells": [
  {
   "cell_type": "code",
   "execution_count": 1,
   "metadata": {},
   "outputs": [
    {
     "name": "stdout",
     "output_type": "stream",
     "text": [
      "Populating the interactive namespace from numpy and matplotlib\n"
     ]
    }
   ],
   "source": [
    "%pylab inline\n",
    "import pandas as pd\n",
    "import scipy.sparse as sparse\n",
    "import string\n",
    "from sklearn.feature_extraction.text import CountVectorizer, TfidfTransformer\n",
    "from sklearn.neighbors import KNeighborsClassifier"
   ]
  },
  {
   "cell_type": "code",
   "execution_count": 2,
   "metadata": {},
   "outputs": [
    {
     "name": "stdout",
     "output_type": "stream",
     "text": [
      "Train data shape :  (296042, 4)\n",
      "Test data shape :  (1107946, 4)\n",
      "Train target shape :  (5000, 2)\n"
     ]
    }
   ],
   "source": [
    "# DATA PLUGGIN\n",
    "\n",
    "raw_train = pd.read_csv(\"train_data.csv.gz\", compression=\"gzip\", encoding=\"utf8\")\n",
    "train_data = raw_train.copy()\n",
    "print(\"Train data shape : \", train_data.values.shape)\n",
    "\n",
    "raw_test = pd.read_csv(\"test_data.csv.gz\", compression=\"gzip\", encoding=\"utf8\")\n",
    "test_data = raw_test.copy()\n",
    "print(\"Test data shape : \", test_data.values.shape)\n",
    "\n",
    "raw_t_target = pd.read_csv(\"train_target.csv\")\n",
    "train_target = raw_t_target.copy()\n",
    "print(\"Train target shape : \", train_target.values.shape)\n"
   ]
  },
  {
   "cell_type": "code",
   "execution_count": 3,
   "metadata": {},
   "outputs": [],
   "source": [
    "# FEATURES BUILDING\n",
    "\n",
    "subreddits = train_data.subreddit.unique()\n",
    "subreddit_size = subreddits.shape[0]\n",
    "subreddit_values = array(range(subreddit_size))\n",
    "\n",
    "subr_bij = dict(zip(subreddits, subreddit_values))\n",
    "\n",
    "\n",
    "author = train_data.author.unique()\n",
    "population_size = author.shape[0]\n",
    "author_values = array(range(population_size))\n",
    "\n",
    "aut_bij  = dict(zip(author,author_values))\n",
    "\n",
    "\n",
    "char_set = array(list(string.printable)) # tutti i possibili caratteri\n",
    "char_range = len(char_set) # segnaposto intero di tutti i possibili caratteri\n",
    "char_values = array(range(1,char_range+1)) # range 1-possibli caratt\n",
    "\n",
    "char_bij = dict(zip(char_set, char_values)) # dict access : char_bij['a'] \n",
    "\n"
   ]
  },
  {
   "cell_type": "code",
   "execution_count": 4,
   "metadata": {},
   "outputs": [
    {
     "name": "stdout",
     "output_type": "stream",
     "text": [
      "UNSORTED:\n",
      "            author  gender\n",
      "0     RedThunder90       0\n",
      "1          Lirkmor       1\n",
      "2           In0chi       0\n",
      "3    ProjectGrudge       0\n",
      "4  TehTurtleHermit       0 \n",
      "\n",
      "SORTED:\n",
      "             author  gender\n",
      "3806    Shamus_Aran       0\n",
      "2930       Riddance       1\n",
      "3583  Secret_Wizard       0\n",
      "2359   Penultimatum       0\n",
      "1909      7-SE7EN-7       0\n",
      "\n",
      "<class 'numpy.ndarray'>\n",
      "(5000,)\n",
      "[0 1 0 0 0]\n"
     ]
    }
   ],
   "source": [
    "# TARGET PREPROCESSING\n",
    "\n",
    "# quello che faccio qui è sistemare l'ordine in cui incorrono i target a seconda dell autore\n",
    "# dai dati il mio ordine è dato da train_data.author.unique()\n",
    "# ho già la mia biiezione per l'ordine, che mi da l'identificativo dell autore\n",
    "# aggiungo una colonna con il risultato al dataframe e la ordino secondo quesa nuova colonna\n",
    "# rimuovo la colonna\n",
    "\n",
    "print(\"UNSORTED:\")\n",
    "\n",
    "print(train_target.head(),\"\\n\")\n",
    "\n",
    "target_author = train_target.values[:,0]\n",
    "\n",
    "identities = zeros(population_size)\n",
    "\n",
    "for k in range(population_size):\n",
    "    identities[k]=aut_bij[target_author[k]]\n",
    "    \n",
    "train_target['user_id'] = identities\n",
    "train_target = train_target.sort_values(by=['user_id'])\n",
    "train_target = train_target.drop(['user_id'],axis=1)\n",
    "\n",
    "print(\"SORTED:\")\n",
    "\n",
    "print(train_target.head())\n",
    "\n",
    "gender_target = train_target.values[:,1]\n",
    "\n",
    "print()\n",
    "print(type(gender_target))\n",
    "print(gender_target.shape)\n",
    "print(gender_target[0:5])"
   ]
  },
  {
   "cell_type": "code",
   "execution_count": 5,
   "metadata": {},
   "outputs": [],
   "source": [
    "# FEATURE : USER SPEECH\n",
    "# voglio un dataframe con il nome dello user\n",
    "# e un testo dove raccolgo tutti i suoi commenti\n",
    "# da trasformare con tdidf in un vettore di frequenze\n",
    "# poi gli applico quella distanza funzionale che ho scritto sotto\n",
    "\n",
    "comments_collection = train_data.drop(['subreddit','created_utc'],axis=1).values\n",
    "\n",
    "author_corpus = [''] * population_size\n",
    "\n",
    "for j in range(comments_collection.shape[0]):\n",
    "\n",
    "    a = comments_collection[j]\n",
    "    l = aut_bij[a[0]]\n",
    "    author_corpus[l]+=a[1]"
   ]
  },
  {
   "cell_type": "code",
   "execution_count": 6,
   "metadata": {},
   "outputs": [
    {
     "name": "stdout",
     "output_type": "stream",
     "text": [
      "X_train is a sparse matrix with shape: (5000, 173211)\n"
     ]
    }
   ],
   "source": [
    "cv = CountVectorizer()\n",
    "C = cv.fit_transform(author_corpus)\n",
    "\n",
    "tfidf = TfidfTransformer(use_idf=False)\n",
    "X_train = tfidf.fit_transform(C)\n",
    "\n",
    "print(\"X_train is a sparse matrix with shape: %s\" % str(X_train.shape))"
   ]
  },
  {
   "cell_type": "code",
   "execution_count": 7,
   "metadata": {},
   "outputs": [],
   "source": [
    "# EXPLORATORY : dovrei rimuovere degli outlier?\n",
    "# chissà intanto costruisco qualcosa che mi permetta poi di farlo\n",
    "\n",
    "spoken_words = zeros(5000)\n",
    "\n",
    "# l'identificativo di questi tutenti è già storato nelle due liste silent e boring\n",
    "silence_treshold = 5\n",
    "silent = []\n",
    "\n",
    "boring_treshold = 2500\n",
    "boring = []\n",
    "\n",
    "for j in range(5000):\n",
    "    \n",
    "    a = X_train[j].todense()\n",
    "    \n",
    "    spoken_words[j] = int(count_nonzero(a,1))\n",
    "    \n",
    "    if(int(count_nonzero(a,1))<silence_treshold):\n",
    "        silent.append(j)\n",
    "        \n",
    "        \n",
    "    if(int(count_nonzero(a,1))>boring_treshold):\n",
    "        boring.append(j)"
   ]
  },
  {
   "cell_type": "code",
   "execution_count": 8,
   "metadata": {},
   "outputs": [
    {
     "name": "stdout",
     "output_type": "stream",
     "text": [
      "Silents are :  78\n",
      "Boring are :  152\n",
      "Rank : [ 0.0 , 8767.0 ]\n",
      "4846 34\n",
      "2670447\n",
      "0.0030834612120477336\n"
     ]
    },
    {
     "data": {
      "image/png": "[encoded data removed]",
      "text/plain": [
       "<Figure size 432x288 with 1 Axes>"
      ]
     },
     "metadata": {
      "needs_background": "light"
     },
     "output_type": "display_data"
    }
   ],
   "source": [
    "print(\"Silents are : \",len(silent))\n",
    "print(\"Boring are : \",len(boring))\n",
    "\n",
    "print(\"Rank : [\",min(spoken_words),\",\",max(spoken_words),\"]\")\n",
    "print(argmin(spoken_words),argmax(spoken_words))\n",
    "\n",
    "print(X_train.count_nonzero())\n",
    "print(X_train.count_nonzero()/(X_train.shape[0]*X_train.shape[1]))\n",
    "\n",
    "plt.hist(spoken_words,bins=500)\n",
    "plt.show()"
   ]
  },
  {
   "cell_type": "code",
   "execution_count": 13,
   "metadata": {},
   "outputs": [
    {
     "name": "stdout",
     "output_type": "stream",
     "text": [
      "[-0.96075344  0.46226835]\n",
      "[1.58767129 0.81572729 0.55254125 0.41911132 0.33823828 0.28388935\n",
      " 0.24481033 0.21533458 0.19229537 0.17378295]\n"
     ]
    },
    {
     "data": {
      "text/plain": [
       "[<matplotlib.lines.Line2D at 0x1a33500978>,\n",
       " <matplotlib.lines.Line2D at 0x1a2db93c50>]"
      ]
     },
     "execution_count": 13,
     "metadata": {},
     "output_type": "execute_result"
    },
    {
     "data": {
      "image/png": "[encoded data removed]",
      "text/plain": [
       "<Figure size 432x288 with 1 Axes>"
      ]
     },
     "metadata": {
      "needs_background": "light"
     },
     "output_type": "display_data"
    }
   ],
   "source": [
    "# ZIPF'S LAW\n",
    "\n",
    "# posso calcolarmi gli esponenti medi della legge di zipf \n",
    "# e quando mi si presenta un caso nuovo comparare i suoi esponenti con questi\n",
    "\n",
    "# ONE USER \n",
    "exempla = 31\n",
    "vocab_len = X_train.shape[1]\n",
    "\n",
    "user_0 = asarray( X_train[exempla].todense() ).reshape(vocab_len)\n",
    "\n",
    "log_dense_user  = []\n",
    "lin_dense_user = []\n",
    "\n",
    "#print(vocab_len)\n",
    "\n",
    "for j in range( vocab_len ):\n",
    "    \n",
    "    # se devo fare il log-log tanto vale che ci metta già dentro il log\n",
    "    if(user_0[j]!=0):\n",
    "        lin_dense_user.append(user_0[j])\n",
    "        \n",
    "lin_dense_user = array (lin_dense_user )\n",
    "lin_dense_user = numpy.sort( lin_dense_user )\n",
    "lin_dense_user = numpy.flip( lin_dense_user )\n",
    "\n",
    "x = range(1,lin_dense_user.shape[0]+1)\n",
    "y = lin_dense_user\n",
    "\n",
    "# - - - F I T - - -\n",
    "# BASTAVA INVERTIRE BETA E ALPHAAAAAAAAA\n",
    "coeff = numpy.polyfit(numpy.log(x), numpy.log(y), 1)\n",
    "beta, alpha = coeff[0],coeff[1]\n",
    "\n",
    "# hypotesis\n",
    "\n",
    "w =  exp(alpha)*(pow(x,beta)) \n",
    "print( coeff ) \n",
    "print( w[0:10] ) \n",
    "\n",
    "# - - - P L O T - - -\n",
    "      \n",
    "fig = plt.figure()\n",
    "ax = fig.add_subplot(111)\n",
    "ax.set_xscale(\"log\")\n",
    "ax.set_yscale(\"log\")\n",
    "#ax.set_xlim(1e-3, 1e4) # <-- check this as pointed out by @tillsten\n",
    "#ax.set_ylim(1e-1, 1e3) # <--\n",
    "#ax.set_aspect(1)\n",
    "ax.set_title(\"aaaa\")\n",
    "\n",
    "#ax.plot(x,lin_dense_user,'bo')\n",
    "ax.plot(x,lin_dense_user,'bo',x,w,'yo')\n"
   ]
  },
  {
   "cell_type": "code",
   "execution_count": 118,
   "metadata": {},
   "outputs": [
    {
     "name": "stdout",
     "output_type": "stream",
     "text": [
      "(1, 173211)\n",
      "[0. 0. 0. ... 0. 0. 0.]\n"
     ]
    }
   ],
   "source": [
    "print(X_train[0].shape)\n",
    "print(asarray( X_train[k].todense() ).reshape(vocab_len))"
   ]
  },
  {
   "cell_type": "code",
   "execution_count": 19,
   "metadata": {
    "scrolled": true
   },
   "outputs": [],
   "source": [
    "# MUCH USER\n",
    "\n",
    "pop_size  = X_train.shape[0]\n",
    "vocab_len = X_train.shape[1]\n",
    "\n",
    "zipf_coeff = []\n",
    "skip = []\n",
    "for k in range(pop_size):\n",
    "    \n",
    "    user_0 = asarray( X_train[k].todense() ).reshape(vocab_len)\n",
    "    \n",
    "    dense_user = []\n",
    "\n",
    "    for j in range( vocab_len ):\n",
    "        if(user_0[j]!=0):\n",
    "            dense_user.append(user_0[j])\n",
    "            \n",
    "    # rimuovo utenti con troppo poco parlato        \n",
    "    if(len(dense_user)>2):\n",
    "    \n",
    "        dense_user = array (dense_user )\n",
    "        dense_user = numpy.sort( dense_user )\n",
    "        dense_user = numpy.flip( dense_user )\n",
    "    \n",
    "        words = dense_user.shape[0]+1\n",
    "\n",
    "        x = range(1,words)\n",
    "        y = dense_user\n",
    "    \n",
    "    # --- log-log fit ---\n",
    "    # ogni utente ha associati i due coefficienti della legge di zipf\n",
    "        zipf_coeff.append( numpy.polyfit(numpy.log(x), numpy.log(y), 1) )\n",
    "    else:\n",
    "        skip.append(k)\n",
    "\n",
    "zipf_coeff = array(zipf_coeff)   \n",
    "#print(zipf_coeff.shape)"
   ]
  },
  {
   "cell_type": "code",
   "execution_count": 30,
   "metadata": {},
   "outputs": [
    {
     "name": "stdout",
     "output_type": "stream",
     "text": [
      "(4967, 2)\n",
      "33\n",
      "[1743, 1786, 2426, 2729, 2841, 3127, 3243, 3617, 3776, 3818, 3871, 3886, 4039, 4082, 4134, 4181, 4182, 4204, 4294, 4371, 4379, 4441, 4631, 4657, 4725, 4743, 4748, 4766, 4846, 4894, 4915, 4940, 4977]\n"
     ]
    }
   ],
   "source": [
    "print(zipf_coeff.shape)\n",
    "# skip mi dirà dove andare a rimuovere \n",
    "# gli utenti taciturni\n",
    "print(len(skip))\n",
    "print(skip)"
   ]
  },
  {
   "cell_type": "code",
   "execution_count": 29,
   "metadata": {},
   "outputs": [
    {
     "name": "stdout",
     "output_type": "stream",
     "text": [
      "(4967, 2)\n",
      "(4967,)\n"
     ]
    },
    {
     "name": "stderr",
     "output_type": "stream",
     "text": [
      "/Applications/anaconda3/lib/python3.7/site-packages/ipykernel_launcher.py:1: DeprecationWarning: in the future out of bounds indices will raise an error instead of being ignored by `numpy.delete`.\n",
      "  \"\"\"Entry point for launching an IPython kernel.\n"
     ]
    }
   ],
   "source": [
    "# skip mi serve solo per il target, \n",
    "# per come sono andato a costruire coeff non devo toglierci niente\n",
    "zipf_gender = delete(gender_target, obj = skip)\n",
    "\n",
    "print(zipf_gender.shape)\n"
   ]
  },
  {
   "cell_type": "code",
   "execution_count": 41,
   "metadata": {},
   "outputs": [
    {
     "data": {
      "text/plain": [
       "(-1, 1)"
      ]
     },
     "execution_count": 41,
     "metadata": {},
     "output_type": "execute_result"
    },
    {
     "data": {
      "image/png": "[encoded data removed]",
      "text/plain": [
       "<Figure size 432x288 with 1 Axes>"
      ]
     },
     "metadata": {
      "needs_background": "light"
     },
     "output_type": "display_data"
    }
   ],
   "source": [
    "c0 = zipf_gender==0\n",
    "c1 = zipf_gender==1\n",
    "\n",
    "#zipf_coeff[:,0] = (zipf_coeff[:,0]-zipf_coeff[:,0].mean())/var(zipf_coeff[:,0])\n",
    "#zipf_coeff[:,1] = (zipf_coeff[:,1]-zipf_coeff[:,1].mean())/var(zipf_coeff[:,1])\n",
    "\n",
    "plot(zipf_coeff[:,0][c0], zipf_coeff[:,1][c0], 'o', mec='r', mfc='none')\n",
    "plot(zipf_coeff[:,0][c1], zipf_coeff[:,1][c1], 'o', mec='g', mfc='none')\n",
    "\n",
    "#plot(zipf_coeff[:,0], zipf_coeff[:,1],'bo')\n",
    "\n",
    "xlim(-2,2)\n",
    "ylim(-1,1)\n",
    "# AHAHAHAHA POI POSSO FARE CLASSIFICAZIONE/REGRESSIONE SUI DUE ESPONENTI DELLA LEGGE DI ZIPF\n",
    "# CIAOOOOOOO"
   ]
  },
  {
   "cell_type": "code",
   "execution_count": 126,
   "metadata": {},
   "outputs": [
    {
     "name": "stdout",
     "output_type": "stream",
     "text": [
      "<class 'numpy.ndarray'>\n",
      "(5000,)\n"
     ]
    }
   ],
   "source": [
    "# posso provare a fare un plot radiale di sta roba e vedere se si separano le popolazioni"
   ]
  },
  {
   "cell_type": "code",
   "execution_count": 9,
   "metadata": {},
   "outputs": [
    {
     "name": "stdout",
     "output_type": "stream",
     "text": [
      "5000\n",
      "interests_matrix is a sparse matrix with shape:  (5000, 3468)\n",
      "\n",
      " [[  4.   0.   0.   0.   0.   0.   0.   0.   0.   0.]\n",
      " [  0.   2.   0.   0.   0.   0.   0. 116.   0.   0.]\n",
      " [  0.   0.   5.   0.   0.   0.   0.  65.   7.   0.]\n",
      " [  0.   1.   0.   3.   4.   0.   0.   0.   0.   0.]\n",
      " [  0.   0.   0.   0.  34.   0.   0. 477.   0.   0.]\n",
      " [  0.   0.   0.   0.   0. 105.   3.   7.   0.   0.]\n",
      " [  0.   0.   0.   0.   0.   0.   2.   0.   0.   0.]\n",
      " [  0.   0.   0.   0.   1.   0.   0. 128.   0.   0.]\n",
      " [  0.   2.   0.   0.   0.   0.   0.  20.   1.   0.]\n",
      " [  0.   0.   0.   0.   1.   0.   0.   0.   0.  98.]]\n"
     ]
    }
   ],
   "source": [
    "# --- I N T E R E S T S   A N D   S U B R E D D I T S ---\n",
    "\n",
    "# --- posso creare una matrice 'sparsa' in cui vedo chi partecipa e quanto a quale discussione\n",
    "# devo mappare il sub_dataframe con utente e subr di ciascun commento nella matrice di attività\n",
    "\n",
    "interests = train_data.drop(['created_utc','body'],axis=1).values\n",
    "\n",
    "interests_matrix = zeros(population_size*subreddit_size)\n",
    "interests_matrix = interests_matrix.reshape(population_size,subreddit_size)\n",
    "\n",
    "print(interests_matrix.shape[0])\n",
    "\n",
    "for j in range(interests.shape[0]):\n",
    "    \n",
    "    a = interests[j]\n",
    "    k = aut_bij[a[0]]\n",
    "    l = subr_bij[a[1]]\n",
    "    interests_matrix[k,l]+=1\n",
    "    \n",
    "# ogni riga rappresenta la partecipazione di un utente ad un reddit\n",
    "print(\"interests_matrix is a sparse matrix with shape: \", interests_matrix.shape)\n",
    "print(\"\\n\",interests_matrix[0:10,0:10])"
   ]
  },
  {
   "cell_type": "code",
   "execution_count": 19,
   "metadata": {},
   "outputs": [
    {
     "name": "stdout",
     "output_type": "stream",
     "text": [
      "(4000, 3468) (1000, 3468)\n",
      "(4000,) (1000,)\n"
     ]
    }
   ],
   "source": [
    "# fallo, ma solo se fai validation\n",
    "\n",
    "vt = 4000 # validation treshold\n",
    "\n",
    "subr_train = interests_matrix[0:vt]\n",
    "subr_valid = interests_matrix[vt:population_size]\n",
    "\n",
    "target_subr_train = gender_target[0:vt]\n",
    "target_subr_train=target_subr_train.astype('int')\n",
    "\n",
    "target_subr_valid = gender_target[vt:5000]\n",
    "target_subr_valid=target_subr_valid.astype('int')\n",
    "\n",
    "\n",
    "print(subr_train.shape,subr_valid.shape)\n",
    "print(target_subr_train.shape,target_subr_valid.shape)"
   ]
  },
  {
   "cell_type": "code",
   "execution_count": 30,
   "metadata": {},
   "outputs": [
    {
     "name": "stdout",
     "output_type": "stream",
     "text": [
      "[ 1.  2.  3.  4.  5.  6.  7.  8.  9. 10. 11. 12. 13. 14. 15. 16. 17. 18.\n",
      " 19. 20. 21. 22. 23. 24. 25. 26. 27. 28. 29. 30.]\n"
     ]
    }
   ],
   "source": []
  },
  {
   "cell_type": "code",
   "execution_count": 36,
   "metadata": {},
   "outputs": [],
   "source": [
    "from sklearn import metrics\n",
    "from sklearn import model_selection"
   ]
  },
  {
   "cell_type": "code",
   "execution_count": null,
   "metadata": {},
   "outputs": [],
   "source": [
    "# SE FAI CROSS VALIDATION METTI TUTTI I DATI NON SERVE CHE FAI LA PARTIZIONE PRIMA"
   ]
  },
  {
   "cell_type": "code",
   "execution_count": 45,
   "metadata": {},
   "outputs": [
    {
     "name": "stdout",
     "output_type": "stream",
     "text": [
      "[21. 22. 23. 24. 25. 26. 27. 28. 29. 30.]\n"
     ]
    }
   ],
   "source": [
    "neighbours = linspace(21, 30, num=10)\n",
    "print(neighbours)"
   ]
  },
  {
   "cell_type": "code",
   "execution_count": 12,
   "metadata": {},
   "outputs": [
    {
     "name": "stdout",
     "output_type": "stream",
     "text": [
      "Longhest string is :  20.0 at position 15\n",
      "He/she is: irrational_abbztract\n"
     ]
    }
   ],
   "source": [
    "# - - -   F E A T U R E   :   N A M E   - - -\n",
    "\n",
    "# posso mettere anche in relazione lo user e il suo nome:\n",
    "# vedo quale utente ha il nome più lungo e posso fare anche pca\n",
    "# da li poi una rete neurale piccola, con iperparametri basati su pca\n",
    "\n",
    "# voglio la stringa di lunghezza massima\n",
    "sizes = zeros(population_size)\n",
    "\n",
    "for j in range(population_size):\n",
    "    sizes[j]=len(author[j])\n",
    "    \n",
    "print(\"Longhest string is : \", max(sizes),\"at position\",argmax(sizes))\n",
    "print(\"He/she is:\", author[argmax(sizes)])"
   ]
  },
  {
   "cell_type": "code",
   "execution_count": 13,
   "metadata": {},
   "outputs": [],
   "source": [
    "ambient_dim = int(max(sizes))\n",
    "plateaux = zeros(ambient_dim)"
   ]
  },
  {
   "cell_type": "code",
   "execution_count": 14,
   "metadata": {},
   "outputs": [],
   "source": [
    "# converto i nomi in vettori nello spazio dim20\n",
    "\n",
    "def from_name_to_vector(name):\n",
    "    \n",
    "    name_dim = len(name)-1\n",
    "    name = array(list(name))\n",
    "    \n",
    "    num_name = zeros(ambient_dim)\n",
    "    \n",
    "    for j in range(ambient_dim):\n",
    "        \n",
    "        if j<name_dim:\n",
    "            num_name[j] = char_bij[ name[j] ]\n",
    "        else:\n",
    "            num_name[j] = 0\n",
    "            \n",
    "    return num_name"
   ]
  },
  {
   "cell_type": "code",
   "execution_count": 17,
   "metadata": {},
   "outputs": [],
   "source": [
    "# DATA MATRIX\n",
    "\n",
    "name_matrix = [plateaux for i in range(population_size)]\n",
    "# mi costruisco la data matrix, poi da normalizzare con non negative matrix factorization\n",
    "\n",
    "for j in range(population_size):\n",
    "        name_matrix[j]=from_name_to_vector(author[j])\n",
    "        \n",
    "name_matrix=array(name_matrix)"
   ]
  },
  {
   "cell_type": "code",
   "execution_count": null,
   "metadata": {},
   "outputs": [],
   "source": [
    "neighbours = linspace(1, 30, num=20)\n",
    "\n",
    "test_score = []\n",
    "\n",
    "for n in neighbours:\n",
    "    \n",
    "    subr_clf = KNeighborsClassifier( int(n) )\n",
    "    subr_clf.fit(subr_train,target_subr_train)\n",
    "    \n",
    "    prediction = subr_clf.predict(subr_valid)\n",
    "    \n",
    "    #mse = metrics.mean_squared_error(y_test, y_train)\n",
    "    #train_score.append(mse)\n",
    "    \n",
    "    cv_val = model_selection.cross_val_score(subr_clf, subr_train,target_subr_train, cv=5)\n",
    "    test_score.append(cv_val.mean())\n",
    "    \n",
    "k = np.argmax(test_score)\n",
    "\n",
    "print(neighbour[k],test_score[k])\n",
    "#winner = degrees[np.argmax(test_scores)]\n",
    "\n",
    "plot(neighbours,test_score,\"bo\")\n",
    "#plot(neighbours[k],test_score[k],\"yo\")\n",
    "\n",
    "prediction = subr_clf.predict(subr_valid)\n",
    "\n",
    "difference = zeros(1000)\n",
    "for j in range(1000):\n",
    "    \n",
    "    difference[j] = abs(prediction[j]-target_subr_valid[j])\n",
    "    \n",
    "print(dot(prediction,ones(1000)))\n",
    " "
   ]
  }
 ],
 "metadata": {
  "kernelspec": {
   "display_name": "Python 3",
   "language": "python",
   "name": "python3"
  },
  "language_info": {
   "codemirror_mode": {
    "name": "ipython",
    "version": 3
   },
   "file_extension": ".py",
   "mimetype": "text/x-python",
   "name": "python",
   "nbconvert_exporter": "python",
   "pygments_lexer": "ipython3",
   "version": "3.7.1"
  }
 },
 "nbformat": 4,
 "nbformat_minor": 2
}
